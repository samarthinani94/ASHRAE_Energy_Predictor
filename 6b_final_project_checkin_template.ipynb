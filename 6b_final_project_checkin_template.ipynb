{
 "cells": [
  {
   "cell_type": "markdown",
   "metadata": {
    "toc": true
   },
   "source": [
    "<h1>Table of Contents<span class=\"tocSkip\"></span></h1>\n",
    "<div class=\"toc\"><ul class=\"toc-item\"><li><span><a href=\"#Final-Project-Check-in\" data-toc-modified-id=\"Final-Project-Check-in-1\">Final Project Check-in</a></span></li><li><span><a href=\"#Group-Name\" data-toc-modified-id=\"Group-Name-2\">Group Name</a></span></li><li><span><a href=\"#Student-Names\" data-toc-modified-id=\"Student-Names-3\">Student Names</a></span></li><li><span><a href=\"#Load-Data\" data-toc-modified-id=\"Load-Data-4\">Load Data</a></span></li><li><span><a href=\"#Fit-scikit-learn-model\" data-toc-modified-id=\"Fit-scikit-learn-model-5\">Fit scikit-learn model</a></span></li><li><span><a href=\"#Evaluation-Metric\" data-toc-modified-id=\"Evaluation-Metric-6\">Evaluation Metric</a></span></li></ul></div>"
   ]
  },
  {
   "cell_type": "markdown",
   "metadata": {},
   "source": [
    "Final Project Check-in\n",
    "------"
   ]
  },
  {
   "cell_type": "markdown",
   "metadata": {},
   "source": [
    "Group Name\n",
    "-----"
   ]
  },
  {
   "cell_type": "markdown",
   "metadata": {},
   "source": [
    "Desi Boyz "
   ]
  },
  {
   "cell_type": "markdown",
   "metadata": {},
   "source": [
    "Student Names\n",
    "----"
   ]
  },
  {
   "cell_type": "markdown",
   "metadata": {},
   "source": [
    "1. Ashwini Jha\n",
    "2. Shishir Kumar\n",
    "3. Samarth Inani"
   ]
  },
  {
   "cell_type": "markdown",
   "metadata": {},
   "source": [
    "Load Data\n",
    "-----"
   ]
  },
  {
   "cell_type": "code",
   "execution_count": null,
   "metadata": {},
   "outputs": [],
   "source": [
    "import pandas as pd\n",
    "train = pd.read_csv(\"ashrae-energy-prediction/train.csv\")\n",
    "weath_train = pd.read_csv(\"ashrae-energy-prediction/weather_train.csv\")\n",
    "build_meta = pd.read_csv(\"ashrae-energy-prediction/building_metadata.csv\")\n",
    "train.timestamp = pd.to_datetime(train.timestamp)\n",
    "weath_train.timestamp = pd.to_datetime(weath_train.timestamp)\n",
    "\n",
    "weath_train['day_of_week'] = weath_train['timestamp'].dt.dayofweek\n",
    "weath_train['month_'] = weath_train['timestamp'].dt.month\n",
    "weath_train['day_'] = weath_train['timestamp'].dt.day\n",
    "weath_train_togrp = weath_train.drop(['timestamp'], axis=1)\n",
    "weath_train_daily = weath_train_togrp.groupby(['site_id','day_of_week','month_','day_']).mean()\n",
    "weath_train_daily.reset_index(inplace = True)\n",
    "\n",
    "\n",
    "train['day_of_week'] = train['timestamp'].dt.dayofweek\n",
    "train['month_'] = train['timestamp'].dt.month\n",
    "train['day_'] = train['timestamp'].dt.day\n",
    "train_togrp = train.drop(['timestamp'], axis=1)\n",
    "train_daily = train_togrp.groupby(['building_id','meter','day_of_week','month_','day_']).mean()\n",
    "train_daily.reset_index(inplace=True)\n",
    "\n",
    "#Merging Data sets\n",
    "build_train_merged = pd.merge(build_meta, train_daily, on='building_id', how='inner')\n",
    "data = pd.merge(build_train_merged, weath_train_daily,\n",
    "                on = ['site_id','day_of_week','month_','day_'], how='inner')"
   ]
  },
  {
   "cell_type": "markdown",
   "metadata": {},
   "source": [
    "Fit scikit-learn model\n",
    "----"
   ]
  },
  {
   "cell_type": "code",
   "execution_count": null,
   "metadata": {},
   "outputs": [],
   "source": []
  },
  {
   "cell_type": "markdown",
   "metadata": {},
   "source": [
    "Evaluation Metric\n",
    "----"
   ]
  },
  {
   "cell_type": "code",
   "execution_count": null,
   "metadata": {},
   "outputs": [],
   "source": []
  }
 ],
 "metadata": {
  "kernelspec": {
   "display_name": "Python 3",
   "language": "python",
   "name": "python3"
  },
  "language_info": {
   "codemirror_mode": {
    "name": "ipython",
    "version": 3
   },
   "file_extension": ".py",
   "mimetype": "text/x-python",
   "name": "python",
   "nbconvert_exporter": "python",
   "pygments_lexer": "ipython3",
   "version": "3.7.4"
  },
  "toc": {
   "base_numbering": 1,
   "nav_menu": {},
   "number_sections": false,
   "sideBar": false,
   "skip_h1_title": false,
   "title_cell": "Table of Contents",
   "title_sidebar": "Contents",
   "toc_cell": true,
   "toc_position": {},
   "toc_section_display": true,
   "toc_window_display": false
  }
 },
 "nbformat": 4,
 "nbformat_minor": 2
}
