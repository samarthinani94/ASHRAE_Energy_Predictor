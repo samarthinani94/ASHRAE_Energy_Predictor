{
 "cells": [
  {
   "cell_type": "markdown",
   "metadata": {
    "toc": true
   },
   "source": [
    "<h1>Table of Contents<span class=\"tocSkip\"></span></h1>\n",
    "<div class=\"toc\"><ul class=\"toc-item\"><li><span><a href=\"#Final-Project-Check-in\" data-toc-modified-id=\"Final-Project-Check-in-1\">Final Project Check-in</a></span></li><li><span><a href=\"#Group-Name\" data-toc-modified-id=\"Group-Name-2\">Group Name</a></span></li><li><span><a href=\"#Student-Names\" data-toc-modified-id=\"Student-Names-3\">Student Names</a></span></li><li><span><a href=\"#Load-Data\" data-toc-modified-id=\"Load-Data-4\">Load Data</a></span></li><li><span><a href=\"#Fit-scikit-learn-model\" data-toc-modified-id=\"Fit-scikit-learn-model-5\">Fit scikit-learn model</a></span></li><li><span><a href=\"#Evaluation-Metric\" data-toc-modified-id=\"Evaluation-Metric-6\">Evaluation Metric</a></span></li></ul></div>"
   ]
  },
  {
   "cell_type": "markdown",
   "metadata": {},
   "source": [
    "Final Project Check-in\n",
    "------"
   ]
  },
  {
   "cell_type": "markdown",
   "metadata": {},
   "source": [
    "Group Name\n",
    "-----"
   ]
  },
  {
   "cell_type": "markdown",
   "metadata": {},
   "source": [
    "Desi Boyz "
   ]
  },
  {
   "cell_type": "markdown",
   "metadata": {},
   "source": [
    "Student Names\n",
    "----"
   ]
  },
  {
   "cell_type": "markdown",
   "metadata": {},
   "source": [
    "1. Ash Jha\n",
    "2. Shishir Kumar\n",
    "3. Samarth Inani"
   ]
  },
  {
   "cell_type": "markdown",
   "metadata": {},
   "source": [
    "Load Data\n",
    "-----"
   ]
  },
  {
   "cell_type": "markdown",
   "metadata": {},
   "source": [
    "We picked up a regression problem where we had to predict hourly energy consumption of buildings."
   ]
  },
  {
   "cell_type": "markdown",
   "metadata": {},
   "source": [
    "[link to the dataset](https://www.kaggle.com/c/ashrae-energy-prediction/data)"
   ]
  },
  {
   "cell_type": "markdown",
   "metadata": {},
   "source": [
    "The dataset had hourly meter readings and weather data for the year 2016. This meant the train dataset had over 20 million rows. For practical reasons, we decided to instead aggregate them at a daily level and predict only the mean daily meter readings. Below code was used to aggregate data on a daily level."
   ]
  },
  {
   "cell_type": "raw",
   "metadata": {},
   "source": [
    "train = pd.read_csv(\"../ashrae-energy-prediction/train.csv\")\n",
    "weath_train = pd.read_csv(\"../ashrae-energy-prediction/weather_train.csv\")\n",
    "build_meta = pd.read_csv(\"../ashrae-energy-prediction/building_metadata.csv\")\n",
    "\n",
    "train.timestamp = pd.to_datetime(train.timestamp)\n",
    "weath_train.timestamp = pd.to_datetime(weath_train.timestamp)\n",
    "\n",
    "weath_train['month'] = weath_train['timestamp'].dt.month\n",
    "weath_train['day'] = weath_train['timestamp'].dt.day\n",
    "weath_train_togrp = weath_train.drop(['timestamp'], axis=1)\n",
    "weath_train_daily = weath_train_togrp.groupby(['site_id','month','day']).mean().reset_index()\n",
    "\n",
    "train['day_of_week'] = train['timestamp'].dt.dayofweek\n",
    "train['month'] = train['timestamp'].dt.month\n",
    "train['day'] = train['timestamp'].dt.day\n",
    "train_togrp = train.drop(['timestamp'], axis=1)\n",
    "train_daily = train_togrp.groupby(['building_id','meter','month','day']).mean().reset_index()\n",
    "\n",
    "build_train_merged = pd.merge(build_meta, train_daily, on='building_id', how='inner')\n",
    "\n",
    "data = pd.merge(build_train_merged, weath_train_daily, on=['site_id','month','day'], how='inner')\n",
    "del train, weath_train, build_meta, weath_train_togrp, weath_train_daily, train_togrp, train_daily, build_train_merged\n",
    "\n",
    "a = int(len(data)/3)\n",
    "b = int(2*len(data)/3)\n",
    "data1 = data.iloc[:a,:]\n",
    "data2 = data.iloc[a:b,:]\n",
    "data3 = data.iloc[b:,:]\n",
    "data1.to_csv()\n",
    "data2.to_csv()\n",
    "data3.to_csv()"
   ]
  },
  {
   "cell_type": "markdown",
   "metadata": {},
   "source": [
    "The daily aggregated data was broken up into 3 pieces and has been shared on our Github repository."
   ]
  },
  {
   "cell_type": "markdown",
   "metadata": {},
   "source": [
    "[link to aggregated data](https://github.com/samarthinani94/ml_project)"
   ]
  },
  {
   "cell_type": "markdown",
   "metadata": {},
   "source": [
    "Let's load up the datasets."
   ]
  },
  {
   "cell_type": "code",
   "execution_count": 1,
   "metadata": {},
   "outputs": [],
   "source": [
    "import pandas as pd\n",
    "import numpy as np\n",
    "import seaborn as sns\n",
    "import xgboost as xgb\n",
    "import csv as csv\n",
    "from xgboost import plot_importance\n",
    "from sklearn.linear_model import Ridge\n",
    "from matplotlib import pyplot\n",
    "from sklearn.model_selection import  train_test_split, RandomizedSearchCV\n",
    "from sklearn.metrics import median_absolute_error\n",
    "from scipy.stats import uniform, randint\n",
    "from sklearn.pipeline import Pipeline\n",
    "from sklearn.compose import ColumnTransformer\n",
    "from sklearn.impute import SimpleImputer\n",
    "from sklearn.preprocessing import LabelEncoder, StandardScaler\n",
    "from sklearn.ensemble import RandomForestRegressor\n",
    "from rfpimp import *\n",
    "\n",
    "sns.set()\n",
    "%matplotlib inline"
   ]
  },
  {
   "cell_type": "code",
   "execution_count": 2,
   "metadata": {},
   "outputs": [],
   "source": [
    "data = pd.concat([pd.read_csv('data1.csv'), pd.read_csv('data2.csv'), pd.read_csv('data3.csv')]\n",
    "                   , axis = 0)"
   ]
  },
  {
   "cell_type": "code",
   "execution_count": 3,
   "metadata": {},
   "outputs": [
    {
     "data": {
      "text/html": [
       "<div>\n",
       "<style scoped>\n",
       "    .dataframe tbody tr th:only-of-type {\n",
       "        vertical-align: middle;\n",
       "    }\n",
       "\n",
       "    .dataframe tbody tr th {\n",
       "        vertical-align: top;\n",
       "    }\n",
       "\n",
       "    .dataframe thead th {\n",
       "        text-align: right;\n",
       "    }\n",
       "</style>\n",
       "<table border=\"1\" class=\"dataframe\">\n",
       "  <thead>\n",
       "    <tr style=\"text-align: right;\">\n",
       "      <th></th>\n",
       "      <th>site_id</th>\n",
       "      <th>building_id</th>\n",
       "      <th>primary_use</th>\n",
       "      <th>square_feet</th>\n",
       "      <th>year_built</th>\n",
       "      <th>floor_count</th>\n",
       "      <th>meter</th>\n",
       "      <th>day_of_week</th>\n",
       "      <th>month_</th>\n",
       "      <th>day_</th>\n",
       "      <th>meter_reading</th>\n",
       "      <th>air_temperature</th>\n",
       "      <th>cloud_coverage</th>\n",
       "      <th>dew_temperature</th>\n",
       "      <th>precip_depth_1_hr</th>\n",
       "      <th>sea_level_pressure</th>\n",
       "      <th>wind_direction</th>\n",
       "      <th>wind_speed</th>\n",
       "    </tr>\n",
       "  </thead>\n",
       "  <tbody>\n",
       "    <tr>\n",
       "      <td>0</td>\n",
       "      <td>0</td>\n",
       "      <td>0</td>\n",
       "      <td>Education</td>\n",
       "      <td>7432</td>\n",
       "      <td>2008.0</td>\n",
       "      <td>NaN</td>\n",
       "      <td>0</td>\n",
       "      <td>0</td>\n",
       "      <td>1</td>\n",
       "      <td>4</td>\n",
       "      <td>0.0</td>\n",
       "      <td>12.666667</td>\n",
       "      <td>2.428571</td>\n",
       "      <td>4.429167</td>\n",
       "      <td>0.666667</td>\n",
       "      <td>1015.621739</td>\n",
       "      <td>318.333333</td>\n",
       "      <td>4.283333</td>\n",
       "    </tr>\n",
       "    <tr>\n",
       "      <td>1</td>\n",
       "      <td>0</td>\n",
       "      <td>1</td>\n",
       "      <td>Education</td>\n",
       "      <td>2720</td>\n",
       "      <td>2004.0</td>\n",
       "      <td>NaN</td>\n",
       "      <td>0</td>\n",
       "      <td>0</td>\n",
       "      <td>1</td>\n",
       "      <td>4</td>\n",
       "      <td>0.0</td>\n",
       "      <td>12.666667</td>\n",
       "      <td>2.428571</td>\n",
       "      <td>4.429167</td>\n",
       "      <td>0.666667</td>\n",
       "      <td>1015.621739</td>\n",
       "      <td>318.333333</td>\n",
       "      <td>4.283333</td>\n",
       "    </tr>\n",
       "    <tr>\n",
       "      <td>2</td>\n",
       "      <td>0</td>\n",
       "      <td>2</td>\n",
       "      <td>Education</td>\n",
       "      <td>5376</td>\n",
       "      <td>1991.0</td>\n",
       "      <td>NaN</td>\n",
       "      <td>0</td>\n",
       "      <td>0</td>\n",
       "      <td>1</td>\n",
       "      <td>4</td>\n",
       "      <td>0.0</td>\n",
       "      <td>12.666667</td>\n",
       "      <td>2.428571</td>\n",
       "      <td>4.429167</td>\n",
       "      <td>0.666667</td>\n",
       "      <td>1015.621739</td>\n",
       "      <td>318.333333</td>\n",
       "      <td>4.283333</td>\n",
       "    </tr>\n",
       "    <tr>\n",
       "      <td>3</td>\n",
       "      <td>0</td>\n",
       "      <td>3</td>\n",
       "      <td>Education</td>\n",
       "      <td>23685</td>\n",
       "      <td>2002.0</td>\n",
       "      <td>NaN</td>\n",
       "      <td>0</td>\n",
       "      <td>0</td>\n",
       "      <td>1</td>\n",
       "      <td>4</td>\n",
       "      <td>0.0</td>\n",
       "      <td>12.666667</td>\n",
       "      <td>2.428571</td>\n",
       "      <td>4.429167</td>\n",
       "      <td>0.666667</td>\n",
       "      <td>1015.621739</td>\n",
       "      <td>318.333333</td>\n",
       "      <td>4.283333</td>\n",
       "    </tr>\n",
       "    <tr>\n",
       "      <td>4</td>\n",
       "      <td>0</td>\n",
       "      <td>4</td>\n",
       "      <td>Education</td>\n",
       "      <td>116607</td>\n",
       "      <td>1975.0</td>\n",
       "      <td>NaN</td>\n",
       "      <td>0</td>\n",
       "      <td>0</td>\n",
       "      <td>1</td>\n",
       "      <td>4</td>\n",
       "      <td>0.0</td>\n",
       "      <td>12.666667</td>\n",
       "      <td>2.428571</td>\n",
       "      <td>4.429167</td>\n",
       "      <td>0.666667</td>\n",
       "      <td>1015.621739</td>\n",
       "      <td>318.333333</td>\n",
       "      <td>4.283333</td>\n",
       "    </tr>\n",
       "  </tbody>\n",
       "</table>\n",
       "</div>"
      ],
      "text/plain": [
       "   site_id  building_id primary_use  square_feet  year_built  floor_count  \\\n",
       "0        0            0   Education         7432      2008.0          NaN   \n",
       "1        0            1   Education         2720      2004.0          NaN   \n",
       "2        0            2   Education         5376      1991.0          NaN   \n",
       "3        0            3   Education        23685      2002.0          NaN   \n",
       "4        0            4   Education       116607      1975.0          NaN   \n",
       "\n",
       "   meter  day_of_week  month_  day_  meter_reading  air_temperature  \\\n",
       "0      0            0       1     4            0.0        12.666667   \n",
       "1      0            0       1     4            0.0        12.666667   \n",
       "2      0            0       1     4            0.0        12.666667   \n",
       "3      0            0       1     4            0.0        12.666667   \n",
       "4      0            0       1     4            0.0        12.666667   \n",
       "\n",
       "   cloud_coverage  dew_temperature  precip_depth_1_hr  sea_level_pressure  \\\n",
       "0        2.428571         4.429167           0.666667         1015.621739   \n",
       "1        2.428571         4.429167           0.666667         1015.621739   \n",
       "2        2.428571         4.429167           0.666667         1015.621739   \n",
       "3        2.428571         4.429167           0.666667         1015.621739   \n",
       "4        2.428571         4.429167           0.666667         1015.621739   \n",
       "\n",
       "   wind_direction  wind_speed  \n",
       "0      318.333333    4.283333  \n",
       "1      318.333333    4.283333  \n",
       "2      318.333333    4.283333  \n",
       "3      318.333333    4.283333  \n",
       "4      318.333333    4.283333  "
      ]
     },
     "execution_count": 3,
     "metadata": {},
     "output_type": "execute_result"
    }
   ],
   "source": [
    "data.drop(data.columns[0], axis=1, inplace=True) ## removing the row index no\n",
    "data.head()"
   ]
  },
  {
   "cell_type": "code",
   "execution_count": 4,
   "metadata": {},
   "outputs": [
    {
     "data": {
      "text/plain": [
       "(845701, 18)"
      ]
     },
     "execution_count": 4,
     "metadata": {},
     "output_type": "execute_result"
    }
   ],
   "source": [
    "data.shape"
   ]
  },
  {
   "cell_type": "markdown",
   "metadata": {},
   "source": [
    "Here, we identify columns with nulls. We will not use the `year_built` and `floor_count` variables because we are hesitant to impute data for variables where majority of the data is missing."
   ]
  },
  {
   "cell_type": "code",
   "execution_count": 5,
   "metadata": {},
   "outputs": [
    {
     "data": {
      "text/plain": [
       "year_built            59.998037\n",
       "floor_count           82.660893\n",
       "cloud_coverage         6.957896\n",
       "precip_depth_1_hr     13.953158\n",
       "sea_level_pressure     4.105943\n",
       "dtype: float64"
      ]
     },
     "execution_count": 5,
     "metadata": {},
     "output_type": "execute_result"
    }
   ],
   "source": [
    "s_nulls = (data.isna().sum() / data.shape[0]) * 100\n",
    "s_nulls.loc[s_nulls>0]"
   ]
  },
  {
   "cell_type": "code",
   "execution_count": 6,
   "metadata": {},
   "outputs": [
    {
     "data": {
      "text/html": [
       "<div>\n",
       "<style scoped>\n",
       "    .dataframe tbody tr th:only-of-type {\n",
       "        vertical-align: middle;\n",
       "    }\n",
       "\n",
       "    .dataframe tbody tr th {\n",
       "        vertical-align: top;\n",
       "    }\n",
       "\n",
       "    .dataframe thead th {\n",
       "        text-align: right;\n",
       "    }\n",
       "</style>\n",
       "<table border=\"1\" class=\"dataframe\">\n",
       "  <thead>\n",
       "    <tr style=\"text-align: right;\">\n",
       "      <th></th>\n",
       "      <th>site_id</th>\n",
       "      <th>building_id</th>\n",
       "      <th>primary_use</th>\n",
       "      <th>square_feet</th>\n",
       "      <th>year_built</th>\n",
       "      <th>floor_count</th>\n",
       "      <th>meter</th>\n",
       "      <th>day_of_week</th>\n",
       "      <th>month_</th>\n",
       "      <th>day_</th>\n",
       "      <th>meter_reading</th>\n",
       "      <th>air_temperature</th>\n",
       "      <th>cloud_coverage</th>\n",
       "      <th>dew_temperature</th>\n",
       "      <th>precip_depth_1_hr</th>\n",
       "      <th>sea_level_pressure</th>\n",
       "      <th>wind_direction</th>\n",
       "      <th>wind_speed</th>\n",
       "    </tr>\n",
       "  </thead>\n",
       "  <tbody>\n",
       "    <tr>\n",
       "      <td>count</td>\n",
       "      <td>845701.000000</td>\n",
       "      <td>845701.000000</td>\n",
       "      <td>845701</td>\n",
       "      <td>845701.000000</td>\n",
       "      <td>338297.000000</td>\n",
       "      <td>146637.000000</td>\n",
       "      <td>845701.000000</td>\n",
       "      <td>845701.000000</td>\n",
       "      <td>845701.000000</td>\n",
       "      <td>845701.000000</td>\n",
       "      <td>8.457010e+05</td>\n",
       "      <td>845701.000000</td>\n",
       "      <td>786858.000000</td>\n",
       "      <td>845701.000000</td>\n",
       "      <td>727699.000000</td>\n",
       "      <td>810977.000000</td>\n",
       "      <td>845701.000000</td>\n",
       "      <td>845701.000000</td>\n",
       "    </tr>\n",
       "    <tr>\n",
       "      <td>unique</td>\n",
       "      <td>NaN</td>\n",
       "      <td>NaN</td>\n",
       "      <td>16</td>\n",
       "      <td>NaN</td>\n",
       "      <td>NaN</td>\n",
       "      <td>NaN</td>\n",
       "      <td>NaN</td>\n",
       "      <td>NaN</td>\n",
       "      <td>NaN</td>\n",
       "      <td>NaN</td>\n",
       "      <td>NaN</td>\n",
       "      <td>NaN</td>\n",
       "      <td>NaN</td>\n",
       "      <td>NaN</td>\n",
       "      <td>NaN</td>\n",
       "      <td>NaN</td>\n",
       "      <td>NaN</td>\n",
       "      <td>NaN</td>\n",
       "    </tr>\n",
       "    <tr>\n",
       "      <td>top</td>\n",
       "      <td>NaN</td>\n",
       "      <td>NaN</td>\n",
       "      <td>Education</td>\n",
       "      <td>NaN</td>\n",
       "      <td>NaN</td>\n",
       "      <td>NaN</td>\n",
       "      <td>NaN</td>\n",
       "      <td>NaN</td>\n",
       "      <td>NaN</td>\n",
       "      <td>NaN</td>\n",
       "      <td>NaN</td>\n",
       "      <td>NaN</td>\n",
       "      <td>NaN</td>\n",
       "      <td>NaN</td>\n",
       "      <td>NaN</td>\n",
       "      <td>NaN</td>\n",
       "      <td>NaN</td>\n",
       "      <td>NaN</td>\n",
       "    </tr>\n",
       "    <tr>\n",
       "      <td>freq</td>\n",
       "      <td>NaN</td>\n",
       "      <td>NaN</td>\n",
       "      <td>341681</td>\n",
       "      <td>NaN</td>\n",
       "      <td>NaN</td>\n",
       "      <td>NaN</td>\n",
       "      <td>NaN</td>\n",
       "      <td>NaN</td>\n",
       "      <td>NaN</td>\n",
       "      <td>NaN</td>\n",
       "      <td>NaN</td>\n",
       "      <td>NaN</td>\n",
       "      <td>NaN</td>\n",
       "      <td>NaN</td>\n",
       "      <td>NaN</td>\n",
       "      <td>NaN</td>\n",
       "      <td>NaN</td>\n",
       "      <td>NaN</td>\n",
       "    </tr>\n",
       "    <tr>\n",
       "      <td>mean</td>\n",
       "      <td>8.001370</td>\n",
       "      <td>800.092567</td>\n",
       "      <td>NaN</td>\n",
       "      <td>107709.359699</td>\n",
       "      <td>1968.257144</td>\n",
       "      <td>4.185663</td>\n",
       "      <td>0.663664</td>\n",
       "      <td>3.005098</td>\n",
       "      <td>6.577496</td>\n",
       "      <td>15.762940</td>\n",
       "      <td>2.110146e+03</td>\n",
       "      <td>15.944838</td>\n",
       "      <td>2.440424</td>\n",
       "      <td>7.716198</td>\n",
       "      <td>1.023119</td>\n",
       "      <td>1016.069946</td>\n",
       "      <td>170.927166</td>\n",
       "      <td>3.378418</td>\n",
       "    </tr>\n",
       "    <tr>\n",
       "      <td>std</td>\n",
       "      <td>5.100336</td>\n",
       "      <td>427.003416</td>\n",
       "      <td>NaN</td>\n",
       "      <td>117038.604587</td>\n",
       "      <td>30.213302</td>\n",
       "      <td>4.005016</td>\n",
       "      <td>0.931187</td>\n",
       "      <td>1.996983</td>\n",
       "      <td>3.437662</td>\n",
       "      <td>8.821962</td>\n",
       "      <td>1.487509e+05</td>\n",
       "      <td>10.400417</td>\n",
       "      <td>2.324014</td>\n",
       "      <td>9.956159</td>\n",
       "      <td>3.661259</td>\n",
       "      <td>6.699657</td>\n",
       "      <td>71.830708</td>\n",
       "      <td>1.592328</td>\n",
       "    </tr>\n",
       "    <tr>\n",
       "      <td>min</td>\n",
       "      <td>0.000000</td>\n",
       "      <td>0.000000</td>\n",
       "      <td>NaN</td>\n",
       "      <td>283.000000</td>\n",
       "      <td>1900.000000</td>\n",
       "      <td>1.000000</td>\n",
       "      <td>0.000000</td>\n",
       "      <td>0.000000</td>\n",
       "      <td>1.000000</td>\n",
       "      <td>1.000000</td>\n",
       "      <td>0.000000e+00</td>\n",
       "      <td>-24.925000</td>\n",
       "      <td>0.000000</td>\n",
       "      <td>-30.704167</td>\n",
       "      <td>-1.000000</td>\n",
       "      <td>975.879167</td>\n",
       "      <td>6.500000</td>\n",
       "      <td>0.237500</td>\n",
       "    </tr>\n",
       "    <tr>\n",
       "      <td>25%</td>\n",
       "      <td>3.000000</td>\n",
       "      <td>394.000000</td>\n",
       "      <td>NaN</td>\n",
       "      <td>32527.000000</td>\n",
       "      <td>1951.000000</td>\n",
       "      <td>1.000000</td>\n",
       "      <td>0.000000</td>\n",
       "      <td>1.000000</td>\n",
       "      <td>4.000000</td>\n",
       "      <td>8.000000</td>\n",
       "      <td>2.216667e+01</td>\n",
       "      <td>8.875000</td>\n",
       "      <td>0.500000</td>\n",
       "      <td>0.308333</td>\n",
       "      <td>0.000000</td>\n",
       "      <td>1011.716667</td>\n",
       "      <td>116.521739</td>\n",
       "      <td>2.250000</td>\n",
       "    </tr>\n",
       "    <tr>\n",
       "      <td>50%</td>\n",
       "      <td>9.000000</td>\n",
       "      <td>896.000000</td>\n",
       "      <td>NaN</td>\n",
       "      <td>72709.000000</td>\n",
       "      <td>1969.000000</td>\n",
       "      <td>3.000000</td>\n",
       "      <td>0.000000</td>\n",
       "      <td>3.000000</td>\n",
       "      <td>7.000000</td>\n",
       "      <td>16.000000</td>\n",
       "      <td>8.546167e+01</td>\n",
       "      <td>17.041667</td>\n",
       "      <td>1.800000</td>\n",
       "      <td>8.533333</td>\n",
       "      <td>0.000000</td>\n",
       "      <td>1016.060870</td>\n",
       "      <td>166.250000</td>\n",
       "      <td>3.104167</td>\n",
       "    </tr>\n",
       "    <tr>\n",
       "      <td>75%</td>\n",
       "      <td>13.000000</td>\n",
       "      <td>1180.000000</td>\n",
       "      <td>NaN</td>\n",
       "      <td>139113.000000</td>\n",
       "      <td>1993.000000</td>\n",
       "      <td>6.000000</td>\n",
       "      <td>1.000000</td>\n",
       "      <td>5.000000</td>\n",
       "      <td>10.000000</td>\n",
       "      <td>23.000000</td>\n",
       "      <td>2.771963e+02</td>\n",
       "      <td>23.725000</td>\n",
       "      <td>3.714286</td>\n",
       "      <td>15.679167</td>\n",
       "      <td>0.125000</td>\n",
       "      <td>1020.204167</td>\n",
       "      <td>225.000000</td>\n",
       "      <td>4.220833</td>\n",
       "    </tr>\n",
       "    <tr>\n",
       "      <td>max</td>\n",
       "      <td>15.000000</td>\n",
       "      <td>1448.000000</td>\n",
       "      <td>NaN</td>\n",
       "      <td>875000.000000</td>\n",
       "      <td>2017.000000</td>\n",
       "      <td>26.000000</td>\n",
       "      <td>3.000000</td>\n",
       "      <td>6.000000</td>\n",
       "      <td>12.000000</td>\n",
       "      <td>31.000000</td>\n",
       "      <td>1.921445e+07</td>\n",
       "      <td>40.187500</td>\n",
       "      <td>9.000000</td>\n",
       "      <td>24.716667</td>\n",
       "      <td>81.000000</td>\n",
       "      <td>1043.795833</td>\n",
       "      <td>352.500000</td>\n",
       "      <td>14.416667</td>\n",
       "    </tr>\n",
       "  </tbody>\n",
       "</table>\n",
       "</div>"
      ],
      "text/plain": [
       "              site_id    building_id primary_use    square_feet  \\\n",
       "count   845701.000000  845701.000000      845701  845701.000000   \n",
       "unique            NaN            NaN          16            NaN   \n",
       "top               NaN            NaN   Education            NaN   \n",
       "freq              NaN            NaN      341681            NaN   \n",
       "mean         8.001370     800.092567         NaN  107709.359699   \n",
       "std          5.100336     427.003416         NaN  117038.604587   \n",
       "min          0.000000       0.000000         NaN     283.000000   \n",
       "25%          3.000000     394.000000         NaN   32527.000000   \n",
       "50%          9.000000     896.000000         NaN   72709.000000   \n",
       "75%         13.000000    1180.000000         NaN  139113.000000   \n",
       "max         15.000000    1448.000000         NaN  875000.000000   \n",
       "\n",
       "           year_built    floor_count          meter    day_of_week  \\\n",
       "count   338297.000000  146637.000000  845701.000000  845701.000000   \n",
       "unique            NaN            NaN            NaN            NaN   \n",
       "top               NaN            NaN            NaN            NaN   \n",
       "freq              NaN            NaN            NaN            NaN   \n",
       "mean      1968.257144       4.185663       0.663664       3.005098   \n",
       "std         30.213302       4.005016       0.931187       1.996983   \n",
       "min       1900.000000       1.000000       0.000000       0.000000   \n",
       "25%       1951.000000       1.000000       0.000000       1.000000   \n",
       "50%       1969.000000       3.000000       0.000000       3.000000   \n",
       "75%       1993.000000       6.000000       1.000000       5.000000   \n",
       "max       2017.000000      26.000000       3.000000       6.000000   \n",
       "\n",
       "               month_           day_  meter_reading  air_temperature  \\\n",
       "count   845701.000000  845701.000000   8.457010e+05    845701.000000   \n",
       "unique            NaN            NaN            NaN              NaN   \n",
       "top               NaN            NaN            NaN              NaN   \n",
       "freq              NaN            NaN            NaN              NaN   \n",
       "mean         6.577496      15.762940   2.110146e+03        15.944838   \n",
       "std          3.437662       8.821962   1.487509e+05        10.400417   \n",
       "min          1.000000       1.000000   0.000000e+00       -24.925000   \n",
       "25%          4.000000       8.000000   2.216667e+01         8.875000   \n",
       "50%          7.000000      16.000000   8.546167e+01        17.041667   \n",
       "75%         10.000000      23.000000   2.771963e+02        23.725000   \n",
       "max         12.000000      31.000000   1.921445e+07        40.187500   \n",
       "\n",
       "        cloud_coverage  dew_temperature  precip_depth_1_hr  \\\n",
       "count    786858.000000    845701.000000      727699.000000   \n",
       "unique             NaN              NaN                NaN   \n",
       "top                NaN              NaN                NaN   \n",
       "freq               NaN              NaN                NaN   \n",
       "mean          2.440424         7.716198           1.023119   \n",
       "std           2.324014         9.956159           3.661259   \n",
       "min           0.000000       -30.704167          -1.000000   \n",
       "25%           0.500000         0.308333           0.000000   \n",
       "50%           1.800000         8.533333           0.000000   \n",
       "75%           3.714286        15.679167           0.125000   \n",
       "max           9.000000        24.716667          81.000000   \n",
       "\n",
       "        sea_level_pressure  wind_direction     wind_speed  \n",
       "count        810977.000000   845701.000000  845701.000000  \n",
       "unique                 NaN             NaN            NaN  \n",
       "top                    NaN             NaN            NaN  \n",
       "freq                   NaN             NaN            NaN  \n",
       "mean           1016.069946      170.927166       3.378418  \n",
       "std               6.699657       71.830708       1.592328  \n",
       "min             975.879167        6.500000       0.237500  \n",
       "25%            1011.716667      116.521739       2.250000  \n",
       "50%            1016.060870      166.250000       3.104167  \n",
       "75%            1020.204167      225.000000       4.220833  \n",
       "max            1043.795833      352.500000      14.416667  "
      ]
     },
     "execution_count": 6,
     "metadata": {},
     "output_type": "execute_result"
    }
   ],
   "source": [
    "data.describe(include='all')"
   ]
  },
  {
   "cell_type": "markdown",
   "metadata": {},
   "source": [
    "Since we don't have the actual test dataset, we will split our dataset into train and test and build prediction model on training set."
   ]
  },
  {
   "cell_type": "code",
   "execution_count": 7,
   "metadata": {},
   "outputs": [],
   "source": [
    "X_train, X_test, y_train, y_test = train_test_split(data.drop(columns=['meter_reading']), \n",
    "                                                    data[['meter_reading']], \n",
    "                                                    test_size=0.25, \n",
    "                                                    random_state=42, shuffle=True)"
   ]
  },
  {
   "cell_type": "markdown",
   "metadata": {},
   "source": [
    "Lets take a look at the relationship between predictor and target features."
   ]
  },
  {
   "cell_type": "code",
   "execution_count": 8,
   "metadata": {},
   "outputs": [],
   "source": [
    "features = ['site_id','building_id','square_feet','meter','month_','air_temperature','dew_temperature',\n",
    "            'wind_speed','cloud_coverage','wind_direction','day_','precip_depth_1_hr']"
   ]
  },
  {
   "cell_type": "code",
   "execution_count": 9,
   "metadata": {},
   "outputs": [
    {
     "data": {
      "text/plain": [
       "<seaborn.axisgrid.PairGrid at 0x1a1e923e50>"
      ]
     },
     "execution_count": 9,
     "metadata": {},
     "output_type": "execute_result"
    },
    {
     "data": {
      "image/png": "[encoded data removed]",
      "text/plain": [
       "<Figure size 720x180 with 4 Axes>"
      ]
     },
     "metadata": {
      "needs_background": "light"
     },
     "output_type": "display_data"
    },
    {
     "data": {
      "image/png": "[encoded data removed]",
      "text/plain": [
       "<Figure size 720x180 with 4 Axes>"
      ]
     },
     "metadata": {
      "needs_background": "light"
     },
     "output_type": "display_data"
    },
    {
     "data": {
      "image/png": "[encoded data removed]",
      "text/plain": [
       "<Figure size 720x180 with 4 Axes>"
      ]
     },
     "metadata": {
      "needs_background": "light"
     },
     "output_type": "display_data"
    }
   ],
   "source": [
    "sns.pairplot(pd.concat([X_train,y_train], axis=1), x_vars=features[:4], y_vars='meter_reading')\n",
    "sns.pairplot(pd.concat([X_train,y_train], axis=1), x_vars=features[4:8], y_vars='meter_reading')\n",
    "sns.pairplot(pd.concat([X_train,y_train], axis=1), x_vars=features[8:], y_vars='meter_reading')"
   ]
  },
  {
   "cell_type": "code",
   "execution_count": 10,
   "metadata": {},
   "outputs": [
    {
     "data": {
      "text/html": [
       "<div>\n",
       "<style scoped>\n",
       "    .dataframe tbody tr th:only-of-type {\n",
       "        vertical-align: middle;\n",
       "    }\n",
       "\n",
       "    .dataframe tbody tr th {\n",
       "        vertical-align: top;\n",
       "    }\n",
       "\n",
       "    .dataframe thead th {\n",
       "        text-align: right;\n",
       "    }\n",
       "</style>\n",
       "<table border=\"1\" class=\"dataframe\">\n",
       "  <thead>\n",
       "    <tr style=\"text-align: right;\">\n",
       "      <th></th>\n",
       "      <th>site_id</th>\n",
       "      <th>building_id</th>\n",
       "      <th>primary_use</th>\n",
       "      <th>square_feet</th>\n",
       "      <th>year_built</th>\n",
       "      <th>floor_count</th>\n",
       "      <th>meter</th>\n",
       "      <th>day_of_week</th>\n",
       "      <th>month_</th>\n",
       "      <th>day_</th>\n",
       "      <th>air_temperature</th>\n",
       "      <th>cloud_coverage</th>\n",
       "      <th>dew_temperature</th>\n",
       "      <th>precip_depth_1_hr</th>\n",
       "      <th>sea_level_pressure</th>\n",
       "      <th>wind_direction</th>\n",
       "      <th>wind_speed</th>\n",
       "    </tr>\n",
       "  </thead>\n",
       "  <tbody>\n",
       "    <tr>\n",
       "      <td>29910</td>\n",
       "      <td>13</td>\n",
       "      <td>1180</td>\n",
       "      <td>Education</td>\n",
       "      <td>95182</td>\n",
       "      <td>NaN</td>\n",
       "      <td>NaN</td>\n",
       "      <td>2</td>\n",
       "      <td>2</td>\n",
       "      <td>8</td>\n",
       "      <td>24</td>\n",
       "      <td>22.487500</td>\n",
       "      <td>6.400000</td>\n",
       "      <td>17.562500</td>\n",
       "      <td>11.458333</td>\n",
       "      <td>1010.912500</td>\n",
       "      <td>232.173913</td>\n",
       "      <td>3.941667</td>\n",
       "    </tr>\n",
       "    <tr>\n",
       "      <td>8992</td>\n",
       "      <td>0</td>\n",
       "      <td>97</td>\n",
       "      <td>Lodging/residential</td>\n",
       "      <td>187647</td>\n",
       "      <td>2007.0</td>\n",
       "      <td>NaN</td>\n",
       "      <td>1</td>\n",
       "      <td>1</td>\n",
       "      <td>5</td>\n",
       "      <td>31</td>\n",
       "      <td>26.466667</td>\n",
       "      <td>3.200000</td>\n",
       "      <td>19.862500</td>\n",
       "      <td>0.333333</td>\n",
       "      <td>1014.045833</td>\n",
       "      <td>206.000000</td>\n",
       "      <td>2.320833</td>\n",
       "    </tr>\n",
       "    <tr>\n",
       "      <td>10766</td>\n",
       "      <td>13</td>\n",
       "      <td>1186</td>\n",
       "      <td>Lodging/residential</td>\n",
       "      <td>157070</td>\n",
       "      <td>NaN</td>\n",
       "      <td>NaN</td>\n",
       "      <td>2</td>\n",
       "      <td>1</td>\n",
       "      <td>6</td>\n",
       "      <td>14</td>\n",
       "      <td>20.437500</td>\n",
       "      <td>7.200000</td>\n",
       "      <td>17.362500</td>\n",
       "      <td>1.875000</td>\n",
       "      <td>1010.108696</td>\n",
       "      <td>62.083333</td>\n",
       "      <td>4.408333</td>\n",
       "    </tr>\n",
       "    <tr>\n",
       "      <td>198516</td>\n",
       "      <td>3</td>\n",
       "      <td>504</td>\n",
       "      <td>Warehouse/storage</td>\n",
       "      <td>112536</td>\n",
       "      <td>NaN</td>\n",
       "      <td>NaN</td>\n",
       "      <td>0</td>\n",
       "      <td>1</td>\n",
       "      <td>10</td>\n",
       "      <td>11</td>\n",
       "      <td>13.516667</td>\n",
       "      <td>1.777778</td>\n",
       "      <td>5.862500</td>\n",
       "      <td>0.000000</td>\n",
       "      <td>1030.029167</td>\n",
       "      <td>186.666667</td>\n",
       "      <td>1.966667</td>\n",
       "    </tr>\n",
       "    <tr>\n",
       "      <td>195513</td>\n",
       "      <td>3</td>\n",
       "      <td>481</td>\n",
       "      <td>Education</td>\n",
       "      <td>104294</td>\n",
       "      <td>1976.0</td>\n",
       "      <td>NaN</td>\n",
       "      <td>0</td>\n",
       "      <td>1</td>\n",
       "      <td>7</td>\n",
       "      <td>26</td>\n",
       "      <td>31.045833</td>\n",
       "      <td>5.800000</td>\n",
       "      <td>22.183333</td>\n",
       "      <td>0.000000</td>\n",
       "      <td>1013.395833</td>\n",
       "      <td>210.833333</td>\n",
       "      <td>3.212500</td>\n",
       "    </tr>\n",
       "  </tbody>\n",
       "</table>\n",
       "</div>"
      ],
      "text/plain": [
       "        site_id  building_id          primary_use  square_feet  year_built  \\\n",
       "29910        13         1180            Education        95182         NaN   \n",
       "8992          0           97  Lodging/residential       187647      2007.0   \n",
       "10766        13         1186  Lodging/residential       157070         NaN   \n",
       "198516        3          504    Warehouse/storage       112536         NaN   \n",
       "195513        3          481            Education       104294      1976.0   \n",
       "\n",
       "        floor_count  meter  day_of_week  month_  day_  air_temperature  \\\n",
       "29910           NaN      2            2       8    24        22.487500   \n",
       "8992            NaN      1            1       5    31        26.466667   \n",
       "10766           NaN      2            1       6    14        20.437500   \n",
       "198516          NaN      0            1      10    11        13.516667   \n",
       "195513          NaN      0            1       7    26        31.045833   \n",
       "\n",
       "        cloud_coverage  dew_temperature  precip_depth_1_hr  \\\n",
       "29910         6.400000        17.562500          11.458333   \n",
       "8992          3.200000        19.862500           0.333333   \n",
       "10766         7.200000        17.362500           1.875000   \n",
       "198516        1.777778         5.862500           0.000000   \n",
       "195513        5.800000        22.183333           0.000000   \n",
       "\n",
       "        sea_level_pressure  wind_direction  wind_speed  \n",
       "29910          1010.912500      232.173913    3.941667  \n",
       "8992           1014.045833      206.000000    2.320833  \n",
       "10766          1010.108696       62.083333    4.408333  \n",
       "198516         1030.029167      186.666667    1.966667  \n",
       "195513         1013.395833      210.833333    3.212500  "
      ]
     },
     "execution_count": 10,
     "metadata": {},
     "output_type": "execute_result"
    }
   ],
   "source": [
    "X_train.head()"
   ]
  },
  {
   "cell_type": "code",
   "execution_count": 11,
   "metadata": {},
   "outputs": [
    {
     "data": {
      "text/plain": [
       "((634275, 17), (634275, 1), (211426, 17), (211426, 1))"
      ]
     },
     "execution_count": 11,
     "metadata": {},
     "output_type": "execute_result"
    }
   ],
   "source": [
    "X_train.shape, y_train.shape, X_test.shape, y_test.shape"
   ]
  },
  {
   "cell_type": "markdown",
   "metadata": {},
   "source": [
    "We will use label encoding technique for the categorical feature `primary_use`."
   ]
  },
  {
   "cell_type": "code",
   "execution_count": 12,
   "metadata": {},
   "outputs": [],
   "source": [
    "le = LabelEncoder()\n",
    "X_train.primary_use = le.fit_transform(X_train['primary_use'])\n",
    "X_test.primary_use = le.transform(X_test['primary_use'])"
   ]
  },
  {
   "cell_type": "code",
   "execution_count": 13,
   "metadata": {},
   "outputs": [],
   "source": [
    "X_train.columns = [col.rstrip('_') for col in X_train.columns] \n",
    "X_test.columns = [col.rstrip('_') for col in X_test.columns]"
   ]
  },
  {
   "cell_type": "markdown",
   "metadata": {},
   "source": [
    "Fit scikit-learn model\n",
    "----"
   ]
  },
  {
   "cell_type": "markdown",
   "metadata": {},
   "source": [
    "#### 1. Ridge Regression"
   ]
  },
  {
   "cell_type": "markdown",
   "metadata": {},
   "source": [
    "We will use Ridge Regression to establish a basiline linear model."
   ]
  },
  {
   "cell_type": "markdown",
   "metadata": {},
   "source": [
    "We will impute the missing values with the train median values. Also, to improve the generality of the model, we will conduct a randomized search of hyperparameters with a 5-fold cross validation. All this functionality can be easily encapsulated in a pipeline."
   ]
  },
  {
   "cell_type": "code",
   "execution_count": 14,
   "metadata": {},
   "outputs": [],
   "source": [
    "num_features_ridge = ['site_id', 'building_id', 'primary_use', 'square_feet', 'meter', 'month',\n",
    "                'day', 'air_temperature', 'dew_temperature', 'wind_speed', 'wind_direction',\n",
    "                'cloud_coverage', 'precip_depth_1_hr']\n",
    "\n",
    "num_transformer_ridge = Pipeline(steps=[('imputer', SimpleImputer(strategy='median')), \n",
    "                                  ('scaler', StandardScaler())])\n",
    "\n",
    "\n",
    "preprocessor_ridge = ColumnTransformer(transformers=[('num', num_transformer_ridge, num_features_ridge)])\n",
    "\n",
    "\n",
    "\n",
    "params_ridge = {\n",
    "    \"rcv_ridge__alpha\": uniform(0.001, 0.5),\n",
    "    \"rcv_ridge__tol\": uniform(1e-6, 1e-3)\n",
    "}\n",
    "\n",
    "pipeline = Pipeline(steps=[('preprocessor', preprocessor_ridge),\n",
    "                           ('rcv_ridge', Ridge(random_state=42))])\n",
    "\n",
    "search_ridge = RandomizedSearchCV(pipeline, param_distributions=params_ridge, n_iter=20, \n",
    "                            scoring='neg_median_absolute_error', random_state=42, cv=5, \n",
    "                            n_jobs=4, return_train_score=True)"
   ]
  },
  {
   "cell_type": "code",
   "execution_count": 20,
   "metadata": {},
   "outputs": [
    {
     "name": "stdout",
     "output_type": "stream",
     "text": [
      "CPU times: user 3.24 s, sys: 1 s, total: 4.24 s\n",
      "Wall time: 2min 22s\n"
     ]
    },
    {
     "data": {
      "text/plain": [
       "RandomizedSearchCV(cv=5, error_score='raise-deprecating',\n",
       "                   estimator=Pipeline(memory=None,\n",
       "                                      steps=[('preprocessor',\n",
       "                                              ColumnTransformer(n_jobs=None,\n",
       "                                                                remainder='drop',\n",
       "                                                                sparse_threshold=0.3,\n",
       "                                                                transformer_weights=None,\n",
       "                                                                transformers=[('num',\n",
       "                                                                               Pipeline(memory=None,\n",
       "                                                                                        steps=[('imputer',\n",
       "                                                                                                SimpleImputer(add_indicator=False,\n",
       "                                                                                                              copy=True,\n",
       "                                                                                                              fill_value=None,\n",
       "                                                                                                              missing_values=nan,\n",
       "                                                                                                              strategy...\n",
       "                                      verbose=False),\n",
       "                   iid='warn', n_iter=20, n_jobs=4,\n",
       "                   param_distributions={'rcv_ridge__alpha': <scipy.stats._distn_infrastructure.rv_frozen object at 0x1a1e96f650>,\n",
       "                                        'rcv_ridge__tol': <scipy.stats._distn_infrastructure.rv_frozen object at 0x1a211e0f90>},\n",
       "                   pre_dispatch='2*n_jobs', random_state=42, refit=True,\n",
       "                   return_train_score=True, scoring='neg_median_absolute_error',\n",
       "                   verbose=0)"
      ]
     },
     "execution_count": 20,
     "metadata": {},
     "output_type": "execute_result"
    }
   ],
   "source": [
    "%%time\n",
    "search_ridge.fit(X_train[num_features_ridge],y_train)"
   ]
  },
  {
   "cell_type": "markdown",
   "metadata": {},
   "source": [
    "[Thanks to this Kaggle tutorial for a neat representation of the hyperparameters for the top performing models.](https://www.kaggle.com/stuarthallows/using-xgboost-with-scikit-learn)"
   ]
  },
  {
   "cell_type": "code",
   "execution_count": 21,
   "metadata": {},
   "outputs": [],
   "source": [
    "def report_best_scores(results, n_top=3):\n",
    "    \"\"\"Function gives hyperparameters for the top n models\"\"\"\n",
    "    for i in range(1, n_top + 1):\n",
    "        candidates = np.flatnonzero(results['rank_test_score'] == i)\n",
    "        for candidate in candidates:\n",
    "            print(\"Model with rank: {0}\".format(i))\n",
    "            print(\"Mean validation score: {0:.3f} (std: {1:.3f})\".format(\n",
    "                  results['mean_test_score'][candidate],\n",
    "                  results['std_test_score'][candidate]))\n",
    "            print(\"Parameters: {0}\".format(results['params'][candidate]))\n",
    "            print(\"\")"
   ]
  },
  {
   "cell_type": "code",
   "execution_count": 22,
   "metadata": {},
   "outputs": [
    {
     "name": "stdout",
     "output_type": "stream",
     "text": [
      "Model with rank: 1\n",
      "Mean validation score: -3639.175 (std: 271.007)\n",
      "Parameters: {'rcv_ridge__alpha': 0.4838160165372797, 'rcv_ridge__tol': 0.0008093973481164612}\n",
      "\n",
      "Model with rank: 2\n",
      "Mean validation score: -3639.191 (std: 271.011)\n",
      "Parameters: {'rcv_ridge__alpha': 0.41722132040021087, 'rcv_ridge__tol': 0.00021333911067827617}\n",
      "\n",
      "Model with rank: 3\n",
      "Mean validation score: -3639.200 (std: 271.017)\n",
      "Parameters: {'rcv_ridge__alpha': 0.36699697090570255, 'rcv_ridge__tol': 0.0005996584841970366}\n",
      "\n"
     ]
    }
   ],
   "source": [
    "report_best_scores(search_ridge.cv_results_, 3)"
   ]
  },
  {
   "cell_type": "markdown",
   "metadata": {},
   "source": [
    "#### 2. Random Forests"
   ]
  },
  {
   "cell_type": "markdown",
   "metadata": {},
   "source": [
    "Tree based algorithms perform better than linear models. Hence we will try out Random forests."
   ]
  },
  {
   "cell_type": "markdown",
   "metadata": {},
   "source": [
    "We will impute all the missing values with the median of the train dataset, as done before. We will perform a randomized search with a 5 fold cross validation as done previously."
   ]
  },
  {
   "cell_type": "code",
   "execution_count": 23,
   "metadata": {},
   "outputs": [],
   "source": [
    "num_features_rf = ['site_id', 'building_id', 'primary_use', 'square_feet', 'meter', 'month',\n",
    "                'day', 'air_temperature', 'dew_temperature', 'wind_speed', 'wind_direction',\n",
    "                'cloud_coverage', 'precip_depth_1_hr']\n",
    "\n",
    "num_transformer_rf = Pipeline(steps=[('imputer', SimpleImputer(strategy='median'))])\n",
    "\n",
    "preprocessor_rf = ColumnTransformer(transformers=[('num', num_transformer_rf, num_features_rf)])\n",
    "\n",
    "regressor_rf = RandomForestRegressor(random_state=42,n_estimators = 100)\n",
    "\n",
    "pipeline_rf = Pipeline(steps=[('preprocessor', preprocessor_rf), ('rcv_rf', regressor_rf)])\n",
    "\n",
    "params_rf = {\n",
    "    \"rcv_rf__max_features\": range(5,14),\n",
    "    \"rcv_rf__max_depth\": [10,20,25],\n",
    "    \"rcv_rf__min_samples_split\": np.linspace(0.1, 1.0, 10, endpoint=True),\n",
    "    \"rcv_rf__min_samples_leaf\": range(1,8),\n",
    "    \"rcv_rf__bootstrap\": [True, False]\n",
    "    \n",
    "}\n",
    "\n",
    "search_rf = RandomizedSearchCV(pipeline_rf, param_distributions=params_rf, n_iter=10, \n",
    "                            scoring='neg_median_absolute_error', random_state=42, cv=5, \n",
    "                            verbose=1, n_jobs=4, return_train_score=True)"
   ]
  },
  {
   "cell_type": "code",
   "execution_count": 24,
   "metadata": {},
   "outputs": [
    {
     "name": "stdout",
     "output_type": "stream",
     "text": [
      "Fitting 5 folds for each of 10 candidates, totalling 50 fits\n"
     ]
    },
    {
     "name": "stderr",
     "output_type": "stream",
     "text": [
      "[Parallel(n_jobs=4)]: Using backend LokyBackend with 4 concurrent workers.\n",
      "[Parallel(n_jobs=4)]: Done  42 tasks      | elapsed: 32.3min\n",
      "[Parallel(n_jobs=4)]: Done  50 out of  50 | elapsed: 35.6min finished\n",
      "/Users/samarthinani/opt/anaconda3/lib/python3.7/site-packages/sklearn/pipeline.py:356: DataConversionWarning: A column-vector y was passed when a 1d array was expected. Please change the shape of y to (n_samples,), for example using ravel().\n",
      "  self._final_estimator.fit(Xt, y, **fit_params)\n"
     ]
    },
    {
     "name": "stdout",
     "output_type": "stream",
     "text": [
      "CPU times: user 2min 55s, sys: 3.68 s, total: 2min 59s\n",
      "Wall time: 38min 52s\n"
     ]
    },
    {
     "data": {
      "text/plain": [
       "RandomizedSearchCV(cv=5, error_score='raise-deprecating',\n",
       "                   estimator=Pipeline(memory=None,\n",
       "                                      steps=[('preprocessor',\n",
       "                                              ColumnTransformer(n_jobs=None,\n",
       "                                                                remainder='drop',\n",
       "                                                                sparse_threshold=0.3,\n",
       "                                                                transformer_weights=None,\n",
       "                                                                transformers=[('num',\n",
       "                                                                               Pipeline(memory=None,\n",
       "                                                                                        steps=[('imputer',\n",
       "                                                                                                SimpleImputer(add_indicator=False,\n",
       "                                                                                                              copy=True,\n",
       "                                                                                                              fill_value=None,\n",
       "                                                                                                              missing_values=nan,\n",
       "                                                                                                              strategy...\n",
       "                   param_distributions={'rcv_rf__bootstrap': [True, False],\n",
       "                                        'rcv_rf__max_depth': [10, 20, 25],\n",
       "                                        'rcv_rf__max_features': range(5, 14),\n",
       "                                        'rcv_rf__min_samples_leaf': range(1, 8),\n",
       "                                        'rcv_rf__min_samples_split': array([0.1, 0.2, 0.3, 0.4, 0.5, 0.6, 0.7, 0.8, 0.9, 1. ])},\n",
       "                   pre_dispatch='2*n_jobs', random_state=42, refit=True,\n",
       "                   return_train_score=True, scoring='neg_median_absolute_error',\n",
       "                   verbose=1)"
      ]
     },
     "execution_count": 24,
     "metadata": {},
     "output_type": "execute_result"
    }
   ],
   "source": [
    "%%time\n",
    "search_rf.fit(X_train[num_features_rf], y_train)"
   ]
  },
  {
   "cell_type": "code",
   "execution_count": 25,
   "metadata": {},
   "outputs": [
    {
     "name": "stdout",
     "output_type": "stream",
     "text": [
      "Model with rank: 1\n",
      "Mean validation score: -132.984 (std: 3.336)\n",
      "Parameters: {'rcv_rf__min_samples_split': 0.1, 'rcv_rf__min_samples_leaf': 2, 'rcv_rf__max_features': 12, 'rcv_rf__max_depth': 20, 'rcv_rf__bootstrap': True}\n",
      "\n",
      "Model with rank: 2\n",
      "Mean validation score: -174.541 (std: 28.243)\n",
      "Parameters: {'rcv_rf__min_samples_split': 0.30000000000000004, 'rcv_rf__min_samples_leaf': 7, 'rcv_rf__max_features': 13, 'rcv_rf__max_depth': 25, 'rcv_rf__bootstrap': False}\n",
      "\n",
      "Model with rank: 2\n",
      "Mean validation score: -174.541 (std: 28.243)\n",
      "Parameters: {'rcv_rf__min_samples_split': 0.30000000000000004, 'rcv_rf__min_samples_leaf': 2, 'rcv_rf__max_features': 13, 'rcv_rf__max_depth': 20, 'rcv_rf__bootstrap': False}\n",
      "\n"
     ]
    }
   ],
   "source": [
    "report_best_scores(search_rf.cv_results_, 3)"
   ]
  },
  {
   "cell_type": "markdown",
   "metadata": {},
   "source": [
    "#### 3. XgBoost"
   ]
  },
  {
   "cell_type": "markdown",
   "metadata": {},
   "source": [
    "This histogram of the target variable clearly shows that its long tailed. Squared error would not be a good loss function."
   ]
  },
  {
   "cell_type": "code",
   "execution_count": 26,
   "metadata": {},
   "outputs": [
    {
     "data": {
      "image/png": "[encoded data removed]",
      "text/plain": [
       "<Figure size 432x288 with 1 Axes>"
      ]
     },
     "metadata": {
      "needs_background": "light"
     },
     "output_type": "display_data"
    }
   ],
   "source": [
    "y_train.hist(bins = 100, range = [1,2000]);"
   ]
  },
  {
   "cell_type": "markdown",
   "metadata": {},
   "source": [
    "We want to optimize for the median of the errors since the distribution is long tailed. We will use a Pseudo Huber loss function, instead of RMSE which is very sensitive to outliers."
   ]
  },
  {
   "cell_type": "markdown",
   "metadata": {},
   "source": [
    "[Our implementation was inspired by this stackoverflow post](https://stackoverflow.com/questions/45006341/xgboost-how-to-use-mae-as-objective-function)"
   ]
  },
  {
   "cell_type": "code",
   "execution_count": 27,
   "metadata": {},
   "outputs": [],
   "source": [
    "def huber_approx_obj(train, preds):\n",
    "    \"\"\"\n",
    "    Function returns gradient and hessein of the Pseudo-Huber function.\n",
    "    \"\"\"\n",
    "    d = preds - train\n",
    "    h = 1  ## constant\n",
    "    scale = 1 + (d / h) ** 2\n",
    "    scale_sqrt = np.sqrt(scale)\n",
    "    grad = d / scale_sqrt\n",
    "    hess = 1 / scale / scale_sqrt\n",
    "    return grad, hess"
   ]
  },
  {
   "cell_type": "code",
   "execution_count": 28,
   "metadata": {},
   "outputs": [],
   "source": [
    "## define huber loss - minimizing it means maximizing its negative\n",
    "def huber_loss(preds, train):\n",
    "    d = preds - train\n",
    "    h = 1\n",
    "    return -1 * np.sum(np.sqrt(1 + (d/h)**2) - 1)"
   ]
  },
  {
   "cell_type": "markdown",
   "metadata": {},
   "source": [
    "XgBoost is a very powerful algorithm when it comes to tabular data. Hence we decided to try out the `XGBRegressor` model."
   ]
  },
  {
   "cell_type": "markdown",
   "metadata": {},
   "source": [
    "To find out the optimal hyperparameter combination , we will do a randomized search over a hyper-dimensional space, fitting XgBoost models to minimize the validation Pseudo-Huber loss."
   ]
  },
  {
   "cell_type": "markdown",
   "metadata": {},
   "source": [
    "We will be fitting a total of 200 XgBoost models by performing a 5-fold cross validation on the train dataset. This will help us improve the generality of the model."
   ]
  },
  {
   "cell_type": "markdown",
   "metadata": {},
   "source": [
    "Lets wrap up all this functionality into a pipeline and conduct a randomized search."
   ]
  },
  {
   "cell_type": "code",
   "execution_count": 29,
   "metadata": {},
   "outputs": [],
   "source": [
    "num_features_xgb = ['site_id', 'building_id', 'primary_use', 'square_feet', 'meter', 'month',\n",
    "                'day', 'air_temperature', 'dew_temperature', 'wind_speed', 'wind_direction',\n",
    "                'cloud_coverage', 'precip_depth_1_hr']\n",
    "\n",
    "num_transformer_xgb = Pipeline(steps=[('imputer', SimpleImputer(strategy='median'))])\n",
    "\n",
    "preprocessor_xgb = ColumnTransformer(transformers=[('num', num_transformer_xgb, num_features_xgb)])\n",
    "\n",
    "params_xgb = {\n",
    "    \"rcv_xgb__colsample_bytree\": uniform(0.7, 0.3),\n",
    "    \"rcv_xgb__gamma\": uniform(0, 0.5),\n",
    "    \"rcv_xgb__learning_rate\": uniform(0.03, 0.3), \n",
    "    \"rcv_xgb__subsample\": uniform(0.6, 0.4),\n",
    "    \"rcv_xgb__booster\": ['gbtree','dart']\n",
    "}\n",
    "\n",
    "pipeline_xgb = Pipeline(steps=[('preprocessor', preprocessor_xgb),\n",
    "                           ('rcv_xgb', xgb.XGBRegressor(objective=huber_approx_obj, \n",
    "                                                        feval= huber_loss, max_depth=5,n_estimators=30))])\n",
    "search_xgb = RandomizedSearchCV(pipeline_xgb, param_distributions=params_xgb, n_iter=20, \n",
    "                            scoring='neg_median_absolute_error', random_state=42, cv=5, \n",
    "                            verbose=1, n_jobs=4, return_train_score=True)"
   ]
  },
  {
   "cell_type": "code",
   "execution_count": 30,
   "metadata": {},
   "outputs": [
    {
     "name": "stdout",
     "output_type": "stream",
     "text": [
      "Fitting 5 folds for each of 20 candidates, totalling 100 fits\n"
     ]
    },
    {
     "name": "stderr",
     "output_type": "stream",
     "text": [
      "[Parallel(n_jobs=4)]: Using backend LokyBackend with 4 concurrent workers.\n",
      "[Parallel(n_jobs=4)]: Done  42 tasks      | elapsed: 13.9min\n",
      "[Parallel(n_jobs=4)]: Done 100 out of 100 | elapsed: 42.4min finished\n"
     ]
    },
    {
     "name": "stdout",
     "output_type": "stream",
     "text": [
      "[17:39:30] WARNING: src/objective/regression_obj.cu:152: reg:linear is now deprecated in favor of reg:squarederror.\n",
      "CPU times: user 48.2 s, sys: 1.98 s, total: 50.2 s\n",
      "Wall time: 43min 17s\n"
     ]
    },
    {
     "data": {
      "text/plain": [
       "RandomizedSearchCV(cv=5, error_score='raise-deprecating',\n",
       "                   estimator=Pipeline(memory=None,\n",
       "                                      steps=[('preprocessor',\n",
       "                                              ColumnTransformer(n_jobs=None,\n",
       "                                                                remainder='drop',\n",
       "                                                                sparse_threshold=0.3,\n",
       "                                                                transformer_weights=None,\n",
       "                                                                transformers=[('num',\n",
       "                                                                               Pipeline(memory=None,\n",
       "                                                                                        steps=[('imputer',\n",
       "                                                                                                SimpleImputer(add_indicator=False,\n",
       "                                                                                                              copy=True,\n",
       "                                                                                                              fill_value=None,\n",
       "                                                                                                              missing_values=nan,\n",
       "                                                                                                              strategy...\n",
       "                                        'rcv_xgb__gamma': <scipy.stats._distn_infrastructure.rv_frozen object at 0x1a226a3ad0>,\n",
       "                                        'rcv_xgb__learning_rate': <scipy.stats._distn_infrastructure.rv_frozen object at 0x1a20530850>,\n",
       "                                        'rcv_xgb__subsample': <scipy.stats._distn_infrastructure.rv_frozen object at 0x1a226aab50>},\n",
       "                   pre_dispatch='2*n_jobs', random_state=42, refit=True,\n",
       "                   return_train_score=True, scoring='neg_median_absolute_error',\n",
       "                   verbose=1)"
      ]
     },
     "execution_count": 30,
     "metadata": {},
     "output_type": "execute_result"
    }
   ],
   "source": [
    "%%time\n",
    "search_xgb.fit(X_train[num_features_xgb], y_train)"
   ]
  },
  {
   "cell_type": "code",
   "execution_count": 31,
   "metadata": {},
   "outputs": [
    {
     "name": "stdout",
     "output_type": "stream",
     "text": [
      "Model with rank: 1\n",
      "Mean validation score: -50.043 (std: 1.030)\n",
      "Parameters: {'rcv_xgb__booster': 'dart', 'rcv_xgb__colsample_bytree': 0.7545474901621302, 'rcv_xgb__gamma': 0.09170225492671691, 'rcv_xgb__learning_rate': 0.12127267288786131, 'rcv_xgb__subsample': 0.8099025726528951}\n",
      "\n",
      "Model with rank: 2\n",
      "Mean validation score: -51.079 (std: 1.078)\n",
      "Parameters: {'rcv_xgb__booster': 'gbtree', 'rcv_xgb__colsample_bytree': 0.722213395520227, 'rcv_xgb__gamma': 0.1792328642721363, 'rcv_xgb__learning_rate': 0.06476071785753891, 'rcv_xgb__subsample': 0.9452413703502374}\n",
      "\n",
      "Model with rank: 3\n",
      "Mean validation score: -51.569 (std: 1.039)\n",
      "Parameters: {'rcv_xgb__booster': 'gbtree', 'rcv_xgb__colsample_bytree': 0.7047898756660642, 'rcv_xgb__gamma': 0.1154469128110745, 'rcv_xgb__learning_rate': 0.10230763980780351, 'rcv_xgb__subsample': 0.8733054075301833}\n",
      "\n"
     ]
    }
   ],
   "source": [
    "report_best_scores(search_xgb.cv_results_, 3)"
   ]
  },
  {
   "cell_type": "markdown",
   "metadata": {},
   "source": [
    "Evaluation Metric\n",
    "----"
   ]
  },
  {
   "cell_type": "markdown",
   "metadata": {},
   "source": [
    "A histogram of the target variable is long tailed. We will use the Median Absolute Error as our evaluation metric."
   ]
  },
  {
   "cell_type": "code",
   "execution_count": 49,
   "metadata": {},
   "outputs": [],
   "source": [
    "num_features = num_features_xgb"
   ]
  },
  {
   "cell_type": "code",
   "execution_count": 50,
   "metadata": {},
   "outputs": [],
   "source": [
    "y_train_pred_ridge = search_ridge.predict(X_train[num_features]) \n",
    "y_test_pred_ridge = search_ridge.predict(X_test[num_features])\n",
    "y_train_pred_rf = search_rf.predict(X_train[num_features]) \n",
    "y_test_pred_rf = search_rf.predict(X_test[num_features])\n",
    "y_train_pred_xgb = search_xgb.predict(X_train[num_features]) \n",
    "y_test_pred_xgb = search_xgb.predict(X_test[num_features])"
   ]
  },
  {
   "cell_type": "code",
   "execution_count": 51,
   "metadata": {},
   "outputs": [
    {
     "name": "stdout",
     "output_type": "stream",
     "text": [
      "MEDAE Ridge: Train = 3634.70 , Test = 3641.57\n"
     ]
    }
   ],
   "source": [
    "train_medae_ridge = median_absolute_error(y_train, y_train_pred_ridge)\n",
    "test_medae_ridge = median_absolute_error(y_test, y_test_pred_ridge)\n",
    "print(f'MEDAE Ridge: Train = {train_medae_ridge:.2f} , Test = {test_medae_ridge:.2f}')"
   ]
  },
  {
   "cell_type": "code",
   "execution_count": 52,
   "metadata": {},
   "outputs": [
    {
     "name": "stdout",
     "output_type": "stream",
     "text": [
      "MEDAE Random Forests: Train = 128.26 , Test = 128.62\n"
     ]
    }
   ],
   "source": [
    "train_medae_rf = median_absolute_error(y_train, y_train_pred_rf)\n",
    "test_medae_rf = median_absolute_error(y_test, y_test_pred_rf)\n",
    "print(f'MEDAE Random Forests: Train = {train_medae_rf:.2f} , Test = {test_medae_rf:.2f}')"
   ]
  },
  {
   "cell_type": "code",
   "execution_count": 53,
   "metadata": {},
   "outputs": [
    {
     "name": "stdout",
     "output_type": "stream",
     "text": [
      "MEDAE XgBoost: Train = 53.55 , Test = 53.91\n"
     ]
    }
   ],
   "source": [
    "train_medae_xgb = median_absolute_error(y_train, y_train_pred_xgb)\n",
    "test_medae_xgb = median_absolute_error(y_test, y_test_pred_xgb)\n",
    "print(f'MEDAE XgBoost: Train = {train_medae_xgb:.2f} , Test = {test_medae_xgb:.2f}')"
   ]
  },
  {
   "cell_type": "code",
   "execution_count": 54,
   "metadata": {},
   "outputs": [
    {
     "name": "stdout",
     "output_type": "stream",
     "text": [
      "Huber Loss XgBoost: Train = -1285455611.07 , Test = -410489535.31\n"
     ]
    }
   ],
   "source": [
    "train_medae = huber_loss(y_train.values.ravel(), y_train_pred_xgb)\n",
    "test_medae = huber_loss(y_test.values.ravel(), y_test_pred_xgb)\n",
    "print(f'Huber Loss XgBoost: Train = {train_medae:.2f} , Test = {test_medae:.2f}')"
   ]
  },
  {
   "cell_type": "markdown",
   "metadata": {},
   "source": [
    "XgBoost model, being the most powerful for tabular data, gave us the best MedAE value of 42."
   ]
  },
  {
   "cell_type": "markdown",
   "metadata": {},
   "source": [
    "Feature Importances\n",
    "---"
   ]
  },
  {
   "cell_type": "markdown",
   "metadata": {},
   "source": [
    "The square feet area of the buidling and its meter type turn out to be two the most important variables"
   ]
  },
  {
   "cell_type": "code",
   "execution_count": 81,
   "metadata": {},
   "outputs": [],
   "source": [
    "I_ridge = importances(search_ridge.best_estimator_, X_test, y_test)\n",
    "I_rf = importances(search_rf.best_estimator_, X_test, y_test)\n",
    "I_xgb = importances(search_xgb.best_estimator_, X_test, y_test)\n",
    "I = pd.concat([I_ridge,I_rf,I_xgb], axis=1, sort=False).reset_index()\n",
    "I.columns = ['feature','ridge','random_forest','xgboost']"
   ]
  },
  {
   "cell_type": "code",
   "execution_count": 82,
   "metadata": {},
   "outputs": [
    {
     "data": {
      "text/plain": [
       "<matplotlib.axes._subplots.AxesSubplot at 0x1a26281590>"
      ]
     },
     "execution_count": 82,
     "metadata": {},
     "output_type": "execute_result"
    },
    {
     "data": {
      "image/png": "[encoded data removed]",
      "text/plain": [
       "<Figure size 432x288 with 1 Axes>"
      ]
     },
     "metadata": {
      "needs_background": "light"
     },
     "output_type": "display_data"
    }
   ],
   "source": [
    "I.plot.bar(x='feature',y=['xgboost'])"
   ]
  },
  {
   "cell_type": "markdown",
   "metadata": {},
   "source": [
    "Conclusion\n",
    "---"
   ]
  },
  {
   "cell_type": "markdown",
   "metadata": {},
   "source": [
    "We can predict the mean hourly energy consumption of a building every day from building characteristics and weather information. Our best model gives meter reading predictions that are off only by 42 units, most of the times."
   ]
  },
  {
   "cell_type": "code",
   "execution_count": 87,
   "metadata": {},
   "outputs": [
    {
     "data": {
      "text/plain": [
       "site_id                    0\n",
       "building_id                0\n",
       "primary_use                0\n",
       "square_feet                0\n",
       "year_built            507404\n",
       "floor_count           699064\n",
       "meter                      0\n",
       "day_of_week                0\n",
       "month_                     0\n",
       "day_                       0\n",
       "meter_reading              0\n",
       "air_temperature            0\n",
       "cloud_coverage         58843\n",
       "dew_temperature            0\n",
       "precip_depth_1_hr     118002\n",
       "sea_level_pressure     34724\n",
       "wind_direction             0\n",
       "wind_speed                 0\n",
       "dtype: int64"
      ]
     },
     "execution_count": 87,
     "metadata": {},
     "output_type": "execute_result"
    }
   ],
   "source": [
    "data.isna().sum()"
   ]
  },
  {
   "cell_type": "code",
   "execution_count": 89,
   "metadata": {},
   "outputs": [
    {
     "data": {
      "text/plain": [
       "85.42375"
      ]
     },
     "execution_count": 89,
     "metadata": {},
     "output_type": "execute_result"
    }
   ],
   "source": []
  },
  {
   "cell_type": "code",
   "execution_count": 101,
   "metadata": {},
   "outputs": [
    {
     "name": "stderr",
     "output_type": "stream",
     "text": [
      "/Users/samarthinani/opt/anaconda3/lib/python3.7/site-packages/pandas/core/series.py:853: RuntimeWarning: divide by zero encountered in log\n",
      "  result = getattr(ufunc, method)(*inputs, **kwargs)\n"
     ]
    },
    {
     "data": {
      "text/plain": [
       "<matplotlib.axes._subplots.AxesSubplot at 0x1a43534c10>"
      ]
     },
     "execution_count": 101,
     "metadata": {},
     "output_type": "execute_result"
    },
    {
     "data": {
      "image/png": "[encoded data removed]",
      "text/plain": [
       "<Figure size 432x288 with 1 Axes>"
      ]
     },
     "metadata": {
      "needs_background": "light"
     },
     "output_type": "display_data"
    }
   ],
   "source": [
    "sns.boxplot(np.log(data['meter_reading']))"
   ]
  },
  {
   "cell_type": "code",
   "execution_count": 102,
   "metadata": {},
   "outputs": [
    {
     "data": {
      "text/plain": [
       "2110.146382052719"
      ]
     },
     "execution_count": 102,
     "metadata": {},
     "output_type": "execute_result"
    }
   ],
   "source": [
    "np.mean(data['meter_reading'])"
   ]
  },
  {
   "cell_type": "code",
   "execution_count": 103,
   "metadata": {},
   "outputs": [
    {
     "data": {
      "text/plain": [
       "85.46166666666666"
      ]
     },
     "execution_count": 103,
     "metadata": {},
     "output_type": "execute_result"
    }
   ],
   "source": [
    "np.median(data['meter_reading'])"
   ]
  },
  {
   "cell_type": "code",
   "execution_count": null,
   "metadata": {},
   "outputs": [],
   "source": []
  }
 ],
 "metadata": {
  "kernelspec": {
   "display_name": "Python 3",
   "language": "python",
   "name": "python3"
  },
  "language_info": {
   "codemirror_mode": {
    "name": "ipython",
    "version": 3
   },
   "file_extension": ".py",
   "mimetype": "text/x-python",
   "name": "python",
   "nbconvert_exporter": "python",
   "pygments_lexer": "ipython3",
   "version": "3.7.4"
  },
  "toc": {
   "base_numbering": 1,
   "nav_menu": {},
   "number_sections": false,
   "sideBar": false,
   "skip_h1_title": false,
   "title_cell": "Table of Contents",
   "title_sidebar": "Contents",
   "toc_cell": true,
   "toc_position": {},
   "toc_section_display": true,
   "toc_window_display": false
  }
 },
 "nbformat": 4,
 "nbformat_minor": 4
}
