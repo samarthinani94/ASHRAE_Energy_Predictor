{
 "cells": [
  {
   "cell_type": "code",
   "execution_count": 26,
   "metadata": {},
   "outputs": [],
   "source": [
    "import pandas as pd\n",
    "import numpy as np\n",
    "import seaborn as sns\n",
    "import xgboost as xgb\n",
    "import csv as csv\n",
    "from xgboost import plot_importance\n",
    "from matplotlib import pyplot\n",
    "from sklearn.model_selection import  train_test_split\n",
    "from sklearn.model_selection import RandomizedSearchCV\n",
    "from sklearn.metrics import median_absolute_error, mean_absolute_error\n",
    "from sklearn.metrics import mean_squared_error\n",
    "from scipy.stats import uniform, randint\n",
    "from sklearn.pipeline import Pipeline\n",
    "from sklearn.compose import ColumnTransformer\n",
    "from sklearn.impute import SimpleImputer\n",
    "from sklearn.preprocessing import LabelEncoder\n",
    "from sklearn.ensemble import RandomForestRegressor\n",
    "from sklearn import preprocessing\n",
    "sns.set()\n",
    "%matplotlib inline"
   ]
  },
  {
   "cell_type": "code",
   "execution_count": 12,
   "metadata": {},
   "outputs": [],
   "source": [
    "data = pd.concat([pd.read_csv('data1.csv'), pd.read_csv('data2.csv'), pd.read_csv('data3.csv')]\n",
    "                   , axis = 0)"
   ]
  },
  {
   "cell_type": "code",
   "execution_count": 14,
   "metadata": {},
   "outputs": [
    {
     "data": {
      "text/html": [
       "<div>\n",
       "<style scoped>\n",
       "    .dataframe tbody tr th:only-of-type {\n",
       "        vertical-align: middle;\n",
       "    }\n",
       "\n",
       "    .dataframe tbody tr th {\n",
       "        vertical-align: top;\n",
       "    }\n",
       "\n",
       "    .dataframe thead th {\n",
       "        text-align: right;\n",
       "    }\n",
       "</style>\n",
       "<table border=\"1\" class=\"dataframe\">\n",
       "  <thead>\n",
       "    <tr style=\"text-align: right;\">\n",
       "      <th></th>\n",
       "      <th>site_id</th>\n",
       "      <th>building_id</th>\n",
       "      <th>primary_use</th>\n",
       "      <th>square_feet</th>\n",
       "      <th>year_built</th>\n",
       "      <th>floor_count</th>\n",
       "      <th>meter</th>\n",
       "      <th>day_of_week</th>\n",
       "      <th>month_</th>\n",
       "      <th>day_</th>\n",
       "      <th>meter_reading</th>\n",
       "      <th>air_temperature</th>\n",
       "      <th>cloud_coverage</th>\n",
       "      <th>dew_temperature</th>\n",
       "      <th>precip_depth_1_hr</th>\n",
       "      <th>sea_level_pressure</th>\n",
       "      <th>wind_direction</th>\n",
       "      <th>wind_speed</th>\n",
       "    </tr>\n",
       "  </thead>\n",
       "  <tbody>\n",
       "    <tr>\n",
       "      <td>0</td>\n",
       "      <td>0</td>\n",
       "      <td>0</td>\n",
       "      <td>Education</td>\n",
       "      <td>7432</td>\n",
       "      <td>2008.0</td>\n",
       "      <td>NaN</td>\n",
       "      <td>0</td>\n",
       "      <td>0</td>\n",
       "      <td>1</td>\n",
       "      <td>4</td>\n",
       "      <td>0.0</td>\n",
       "      <td>12.666667</td>\n",
       "      <td>2.428571</td>\n",
       "      <td>4.429167</td>\n",
       "      <td>0.666667</td>\n",
       "      <td>1015.621739</td>\n",
       "      <td>318.333333</td>\n",
       "      <td>4.283333</td>\n",
       "    </tr>\n",
       "    <tr>\n",
       "      <td>1</td>\n",
       "      <td>0</td>\n",
       "      <td>1</td>\n",
       "      <td>Education</td>\n",
       "      <td>2720</td>\n",
       "      <td>2004.0</td>\n",
       "      <td>NaN</td>\n",
       "      <td>0</td>\n",
       "      <td>0</td>\n",
       "      <td>1</td>\n",
       "      <td>4</td>\n",
       "      <td>0.0</td>\n",
       "      <td>12.666667</td>\n",
       "      <td>2.428571</td>\n",
       "      <td>4.429167</td>\n",
       "      <td>0.666667</td>\n",
       "      <td>1015.621739</td>\n",
       "      <td>318.333333</td>\n",
       "      <td>4.283333</td>\n",
       "    </tr>\n",
       "    <tr>\n",
       "      <td>2</td>\n",
       "      <td>0</td>\n",
       "      <td>2</td>\n",
       "      <td>Education</td>\n",
       "      <td>5376</td>\n",
       "      <td>1991.0</td>\n",
       "      <td>NaN</td>\n",
       "      <td>0</td>\n",
       "      <td>0</td>\n",
       "      <td>1</td>\n",
       "      <td>4</td>\n",
       "      <td>0.0</td>\n",
       "      <td>12.666667</td>\n",
       "      <td>2.428571</td>\n",
       "      <td>4.429167</td>\n",
       "      <td>0.666667</td>\n",
       "      <td>1015.621739</td>\n",
       "      <td>318.333333</td>\n",
       "      <td>4.283333</td>\n",
       "    </tr>\n",
       "    <tr>\n",
       "      <td>3</td>\n",
       "      <td>0</td>\n",
       "      <td>3</td>\n",
       "      <td>Education</td>\n",
       "      <td>23685</td>\n",
       "      <td>2002.0</td>\n",
       "      <td>NaN</td>\n",
       "      <td>0</td>\n",
       "      <td>0</td>\n",
       "      <td>1</td>\n",
       "      <td>4</td>\n",
       "      <td>0.0</td>\n",
       "      <td>12.666667</td>\n",
       "      <td>2.428571</td>\n",
       "      <td>4.429167</td>\n",
       "      <td>0.666667</td>\n",
       "      <td>1015.621739</td>\n",
       "      <td>318.333333</td>\n",
       "      <td>4.283333</td>\n",
       "    </tr>\n",
       "    <tr>\n",
       "      <td>4</td>\n",
       "      <td>0</td>\n",
       "      <td>4</td>\n",
       "      <td>Education</td>\n",
       "      <td>116607</td>\n",
       "      <td>1975.0</td>\n",
       "      <td>NaN</td>\n",
       "      <td>0</td>\n",
       "      <td>0</td>\n",
       "      <td>1</td>\n",
       "      <td>4</td>\n",
       "      <td>0.0</td>\n",
       "      <td>12.666667</td>\n",
       "      <td>2.428571</td>\n",
       "      <td>4.429167</td>\n",
       "      <td>0.666667</td>\n",
       "      <td>1015.621739</td>\n",
       "      <td>318.333333</td>\n",
       "      <td>4.283333</td>\n",
       "    </tr>\n",
       "  </tbody>\n",
       "</table>\n",
       "</div>"
      ],
      "text/plain": [
       "   site_id  building_id primary_use  square_feet  year_built  floor_count  \\\n",
       "0        0            0   Education         7432      2008.0          NaN   \n",
       "1        0            1   Education         2720      2004.0          NaN   \n",
       "2        0            2   Education         5376      1991.0          NaN   \n",
       "3        0            3   Education        23685      2002.0          NaN   \n",
       "4        0            4   Education       116607      1975.0          NaN   \n",
       "\n",
       "   meter  day_of_week  month_  day_  meter_reading  air_temperature  \\\n",
       "0      0            0       1     4            0.0        12.666667   \n",
       "1      0            0       1     4            0.0        12.666667   \n",
       "2      0            0       1     4            0.0        12.666667   \n",
       "3      0            0       1     4            0.0        12.666667   \n",
       "4      0            0       1     4            0.0        12.666667   \n",
       "\n",
       "   cloud_coverage  dew_temperature  precip_depth_1_hr  sea_level_pressure  \\\n",
       "0        2.428571         4.429167           0.666667         1015.621739   \n",
       "1        2.428571         4.429167           0.666667         1015.621739   \n",
       "2        2.428571         4.429167           0.666667         1015.621739   \n",
       "3        2.428571         4.429167           0.666667         1015.621739   \n",
       "4        2.428571         4.429167           0.666667         1015.621739   \n",
       "\n",
       "   wind_direction  wind_speed  \n",
       "0      318.333333    4.283333  \n",
       "1      318.333333    4.283333  \n",
       "2      318.333333    4.283333  \n",
       "3      318.333333    4.283333  \n",
       "4      318.333333    4.283333  "
      ]
     },
     "execution_count": 14,
     "metadata": {},
     "output_type": "execute_result"
    }
   ],
   "source": [
    "data.drop(data.columns[0], axis=1, inplace=True) ## removing the row index no\n",
    "data.head()"
   ]
  },
  {
   "cell_type": "code",
   "execution_count": 15,
   "metadata": {},
   "outputs": [],
   "source": [
    "X_train, X_test, y_train, y_test = train_test_split(data.drop(columns=['meter_reading']), \n",
    "                                                    data[['meter_reading']], \n",
    "                                                    test_size=0.25, \n",
    "                                                    random_state=42, shuffle=True)"
   ]
  },
  {
   "cell_type": "code",
   "execution_count": 16,
   "metadata": {},
   "outputs": [],
   "source": [
    "features = ['site_id','building_id','square_feet','meter','month_','air_temperature','dew_temperature',\n",
    "            'wind_speed','cloud_coverage','wind_direction','day_','precip_depth_1_hr']"
   ]
  },
  {
   "cell_type": "code",
   "execution_count": 17,
   "metadata": {},
   "outputs": [],
   "source": [
    "le = LabelEncoder()\n",
    "X_train.primary_use = le.fit_transform(X_train['primary_use'])\n",
    "X_test.primary_use = le.transform(X_test['primary_use'])"
   ]
  },
  {
   "cell_type": "code",
   "execution_count": 18,
   "metadata": {},
   "outputs": [],
   "source": [
    "X_train.columns = [col.rstrip('_') for col in X_train.columns] \n",
    "X_test.columns = [col.rstrip('_') for col in X_test.columns] "
   ]
  },
  {
   "cell_type": "code",
   "execution_count": 19,
   "metadata": {},
   "outputs": [],
   "source": [
    "def huber_approx_obj(train, preds):\n",
    "    \"\"\"\n",
    "    Function returns gradient and hessein of the Pseudo-Huber function.\n",
    "    \"\"\"\n",
    "    d = preds - train\n",
    "    h = 1  ## constant\n",
    "    scale = 1 + (d / h) ** 2\n",
    "    scale_sqrt = np.sqrt(scale)\n",
    "    grad = d / scale_sqrt\n",
    "    hess = 1 / scale / scale_sqrt\n",
    "    return grad, hess"
   ]
  },
  {
   "cell_type": "code",
   "execution_count": 20,
   "metadata": {},
   "outputs": [],
   "source": [
    "## define huber loss - minimizing it means maximizing its negative\n",
    "def huber_loss(preds, train):\n",
    "    d = preds - train\n",
    "    h = 1\n",
    "    return -1 * np.sum(np.sqrt(1 + (d/h)**2) - 1)"
   ]
  },
  {
   "cell_type": "code",
   "execution_count": 88,
   "metadata": {},
   "outputs": [],
   "source": [
    "#pipeline\n",
    "\n",
    "num_features = ['site_id', 'building_id', 'primary_use', 'square_feet', 'meter', 'month',\n",
    "                'day', 'air_temperature', 'dew_temperature', 'wind_speed', 'wind_direction',\n",
    "                'cloud_coverage', 'precip_depth_1_hr']\n",
    "\n",
    "num_transformer = Pipeline(steps=[\n",
    "        ('imputer', SimpleImputer(strategy='median')),\n",
    "        ('scaler', preprocessing.StandardScaler())])\n",
    "\n",
    "\n",
    "preprocessor = ColumnTransformer(transformers=[('num', num_transformer, num_features)])\n",
    "\n",
    "regressor = RandomForestRegressor(random_state=42,n_estimators = 100)\n",
    "\n",
    "pipeline = Pipeline(steps=[('preprocessor', preprocessor),\n",
    "                           ('regressor', regressor)])\n",
    "        "
   ]
  },
  {
   "cell_type": "code",
   "execution_count": 95,
   "metadata": {},
   "outputs": [
    {
     "name": "stdout",
     "output_type": "stream",
     "text": [
      "Fitting 5 folds for each of 5 candidates, totalling 25 fits\n"
     ]
    },
    {
     "name": "stderr",
     "output_type": "stream",
     "text": [
      "[Parallel(n_jobs=-1)]: Using backend LokyBackend with 4 concurrent workers.\n",
      "[Parallel(n_jobs=-1)]: Done  25 out of  25 | elapsed:    0.4s finished\n",
      "/Users/samarthinani/opt/anaconda3/lib/python3.7/site-packages/sklearn/pipeline.py:356: DataConversionWarning: A column-vector y was passed when a 1d array was expected. Please change the shape of y to (n_samples,), for example using ravel().\n",
      "  self._final_estimator.fit(Xt, y, **fit_params)\n"
     ]
    },
    {
     "data": {
      "text/plain": [
       "RandomizedSearchCV(cv=5, error_score='raise-deprecating',\n",
       "                   estimator=Pipeline(memory=None,\n",
       "                                      steps=[('preprocessor',\n",
       "                                              ColumnTransformer(n_jobs=None,\n",
       "                                                                remainder='drop',\n",
       "                                                                sparse_threshold=0.3,\n",
       "                                                                transformer_weights=None,\n",
       "                                                                transformers=[('num',\n",
       "                                                                               Pipeline(memory=None,\n",
       "                                                                                        steps=[('imputer',\n",
       "                                                                                                SimpleImputer(add_indicator=False,\n",
       "                                                                                                              copy=True,\n",
       "                                                                                                              fill_value=None,\n",
       "                                                                                                              missing_values=nan,\n",
       "                                                                                                              strategy...\n",
       "                   iid='warn', n_iter=5, n_jobs=-1,\n",
       "                   param_distributions={'regressor__bootstrap': [True, False],\n",
       "                                        'regressor__max_features': range(1, 3),\n",
       "                                        'regressor__min_samples_leaf': range(1, 4),\n",
       "                                        'regressor__min_samples_split': array([0.1, 0.2, 0.3, 0.4, 0.5, 0.6, 0.7, 0.8, 0.9, 1. ])},\n",
       "                   pre_dispatch='2*n_jobs', random_state=42, refit=True,\n",
       "                   return_train_score=True, scoring='neg_median_absolute_error',\n",
       "                   verbose=1)"
      ]
     },
     "execution_count": 95,
     "metadata": {},
     "output_type": "execute_result"
    }
   ],
   "source": [
    "#crossvalidation\n",
    "\n",
    "# Number of features to consider at every split\n",
    "max_features = range(5,14)\n",
    "# Maximum number of levels in tree\n",
    "max_depth = [5,8,10,12,15,18,20,22,25]\n",
    "# Minimum number of samples required to split a node\n",
    "min_samples_split = np.linspace(0.1, 1.0, 10, endpoint=True)\n",
    "# Minimum number of samples required at each leaf node\n",
    "min_samples_leaf = range(1,8)\n",
    "# Method of selecting samples for training each tree\n",
    "bootstrap = [True, False]\n",
    "\n",
    "\n",
    "hyperparameters = {'regressor__max_depth' : max_depth,\n",
    "           'regressor__max_features': max_features,\n",
    "           'regressor__min_samples_split': min_samples_split,\n",
    "           'regressor__min_samples_leaf': min_samples_leaf,\n",
    "           'regressor__bootstrap': bootstrap}\n",
    "\n",
    "search = RandomizedSearchCV(pipeline, param_distributions=hyperparameters, n_iter=40, \n",
    "                            scoring='neg_median_absolute_error', random_state=42, cv=5, \n",
    "                            verbose=1, n_jobs=-1, return_train_score=True)\n",
    "search.fit(X_train[num_features], y_train)\n",
    "\n"
   ]
  },
  {
   "cell_type": "code",
   "execution_count": 96,
   "metadata": {},
   "outputs": [],
   "source": [
    "def report_best_scores(results, n_top=3):\n",
    "    \"\"\"Function gives hyperparameters for the top n models\"\"\"\n",
    "    for i in range(1, n_top + 1):\n",
    "        candidates = np.flatnonzero(results['rank_test_score'] == i)\n",
    "        for candidate in candidates:\n",
    "            print(\"Model with rank: {0}\".format(i))\n",
    "            print(\"Mean validation score: {0:.3f} (std: {1:.3f})\".format(\n",
    "                  results['mean_test_score'][candidate],\n",
    "                  results['std_test_score'][candidate]))\n",
    "            print(\"Parameters: {0}\".format(results['params'][candidate]))\n",
    "            print(\"\")"
   ]
  },
  {
   "cell_type": "code",
   "execution_count": 97,
   "metadata": {},
   "outputs": [
    {
     "name": "stdout",
     "output_type": "stream",
     "text": [
      "Model with rank: 1\n",
      "Mean validation score: -0.716 (std: 0.076)\n",
      "Parameters: {'regressor__min_samples_split': 0.5, 'regressor__min_samples_leaf': 2, 'regressor__max_features': 2, 'regressor__bootstrap': True}\n",
      "\n",
      "Model with rank: 2\n",
      "Mean validation score: -0.727 (std: 0.069)\n",
      "Parameters: {'regressor__min_samples_split': 0.5, 'regressor__min_samples_leaf': 1, 'regressor__max_features': 1, 'regressor__bootstrap': True}\n",
      "\n",
      "Model with rank: 3\n",
      "Mean validation score: -0.812 (std: 0.095)\n",
      "Parameters: {'regressor__min_samples_split': 0.6, 'regressor__min_samples_leaf': 3, 'regressor__max_features': 2, 'regressor__bootstrap': True}\n",
      "\n",
      "Model with rank: 4\n",
      "Mean validation score: -0.821 (std: 0.104)\n",
      "Parameters: {'regressor__min_samples_split': 0.8, 'regressor__min_samples_leaf': 2, 'regressor__max_features': 2, 'regressor__bootstrap': True}\n",
      "\n",
      "Model with rank: 4\n",
      "Mean validation score: -0.821 (std: 0.104)\n",
      "Parameters: {'regressor__min_samples_split': 0.7000000000000001, 'regressor__min_samples_leaf': 3, 'regressor__max_features': 1, 'regressor__bootstrap': True}\n",
      "\n"
     ]
    }
   ],
   "source": [
    "report_best_scores(search.cv_results_, 10)"
   ]
  },
  {
   "cell_type": "code",
   "execution_count": 98,
   "metadata": {},
   "outputs": [],
   "source": [
    "y_train_pred = search.predict(X_train[num_features]) \n",
    "y_test_pred = search.predict(X_test[num_features])"
   ]
  },
  {
   "cell_type": "code",
   "execution_count": 99,
   "metadata": {},
   "outputs": [
    {
     "name": "stdout",
     "output_type": "stream",
     "text": [
      "MEDAE: Train = 0.65 , Test = 0.88\n"
     ]
    }
   ],
   "source": [
    "train_medae = median_absolute_error(y_train, y_train_pred)\n",
    "test_medae = median_absolute_error(y_test, y_test_pred)\n",
    "print(f'MEDAE: Train = {train_medae:.2f} , Test = {test_medae:.2f}')"
   ]
  },
  {
   "cell_type": "code",
   "execution_count": 100,
   "metadata": {},
   "outputs": [
    {
     "name": "stdout",
     "output_type": "stream",
     "text": [
      "MEDAE: Train = -330.26 , Test = 0.88\n"
     ]
    }
   ],
   "source": [
    "train_medae = huber_loss(y_train.values.ravel(), y_train_pred)\n",
    "test_medae = median_absolute_error(y_test.values.ravel(), y_test_pred)\n",
    "print(f'MEDAE: Train = {train_medae:.2f} , Test = {test_medae:.2f}')"
   ]
  },
  {
   "cell_type": "code",
   "execution_count": null,
   "metadata": {},
   "outputs": [],
   "source": []
  }
 ],
 "metadata": {
  "kernelspec": {
   "display_name": "Python 3",
   "language": "python",
   "name": "python3"
  },
  "language_info": {
   "codemirror_mode": {
    "name": "ipython",
    "version": 3
   },
   "file_extension": ".py",
   "mimetype": "text/x-python",
   "name": "python",
   "nbconvert_exporter": "python",
   "pygments_lexer": "ipython3",
   "version": "3.7.4"
  }
 },
 "nbformat": 4,
 "nbformat_minor": 2
}
